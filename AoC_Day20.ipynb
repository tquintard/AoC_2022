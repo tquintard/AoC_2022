{
  "nbformat": 4,
  "nbformat_minor": 0,
  "metadata": {
    "colab": {
      "provenance": [],
      "toc_visible": true,
      "authorship_tag": "ABX9TyNFoH9kN6ACeOMKkhmSVEDJ",
      "include_colab_link": true
    },
    "kernelspec": {
      "name": "python3",
      "display_name": "Python 3"
    },
    "language_info": {
      "name": "python"
    }
  },
  "cells": [
    {
      "cell_type": "markdown",
      "metadata": {
        "id": "view-in-github",
        "colab_type": "text"
      },
      "source": [
        "<a href=\"https://colab.research.google.com/github/tquintard/AoC_2022/blob/main/AoC_Day20.ipynb\" target=\"_parent\"><img src=\"https://colab.research.google.com/assets/colab-badge.svg\" alt=\"Open In Colab\"/></a>"
      ]
    },
    {
      "cell_type": "markdown",
      "source": [
        "# **--- Day 20: Grove Positioning System ---**\n",
        "\n",
        "It's finally time to meet back up with the Elves. When you try to contact them, however, you get no reply. Perhaps you're out of range?\n",
        "\n",
        "You know they're headed to the grove where the star fruit grows, so if you can figure out where that is, you should be able to meet back up with them.\n",
        "\n",
        "Fortunately, your handheld device has a file (your puzzle input) that contains the grove's coordinates! Unfortunately, the file is encrypted - just in case the device were to fall into the wrong hands."
      ],
      "metadata": {
        "id": "aBv9izvIrlIg"
      }
    },
    {
      "cell_type": "markdown",
      "source": [
        "## **--- Part One ---**\n",
        "Maybe you can decrypt it?\n",
        "\n",
        "When you were still back at the camp, you overheard some Elves talking about coordinate file encryption. The main operation involved in decrypting the file is called mixing.\n",
        "\n",
        "The encrypted file is a list of numbers. To mix the file, move each number forward or backward in the file a number of positions equal to the value of the number being moved. The list is circular, so moving a number off one end of the list wraps back around to the other end as if the ends were connected.\n",
        "\n",
        "For example, to move the 1 in a sequence like 4, 5, 6, 1, 7, 8, 9, the 1 moves one position forward: 4, 5, 6, 7, 1, 8, 9. To move the -2 in a sequence like 4, -2, 5, 6, 7, 8, 9, the -2 moves two positions backward, wrapping around: 4, 5, 6, 7, 8, -2, 9.\n",
        "\n",
        "The numbers should be moved in the order they originally appear in the encrypted file. Numbers moving around during the mixing process do not change the order in which the numbers are moved."
      ],
      "metadata": {
        "id": "oo12KH98gFrc"
      }
    },
    {
      "cell_type": "markdown",
      "source": [
        "## **--- Part Two ---**\n",
        "\n",
        "The grove coordinate values seem nonsensical. While you ponder the mysteries of Elf encryption, you suddenly remember the rest of the decryption routine you overheard back at camp.\n",
        "\n",
        "First, you need to apply the decryption key, 811589153. Multiply each number by the decryption key before you begin; this will produce the actual list of numbers to mix.\n",
        "\n",
        "Second, you need to mix the list of numbers ten times. The order in which the numbers are mixed does not change during mixing; the numbers are still moved in the order they appeared in the original, pre-mixed list. (So, if -3 appears fourth in the original list of numbers to mix, -3 will be the fourth number to move during each round of mixing.)"
      ],
      "metadata": {
        "id": "9Rjur0Gcr3hS"
      }
    },
    {
      "cell_type": "markdown",
      "source": [
        "# **--- Day 20: Grove Positioning System - Solution ---**"
      ],
      "metadata": {
        "id": "ilJKGzBMrtVO"
      }
    },
    {
      "cell_type": "code",
      "source": [
        "#@title Module import\n",
        "import copy"
      ],
      "metadata": {
        "id": "PE82R0vti8FV"
      },
      "execution_count": 8,
      "outputs": []
    },
    {
      "cell_type": "code",
      "source": [
        "#@title Variable definition\n",
        "decryp_key = 811589153\n",
        "rounds = 10"
      ],
      "metadata": {
        "id": "-awaDm6CjZ0D"
      },
      "execution_count": 9,
      "outputs": []
    },
    {
      "cell_type": "code",
      "source": [
        "raw_inputs =['1\n",
        "2\n",
        "-3\n",
        "3\n",
        "-2\n",
        "0\n",
        "4']"
      ],
      "metadata": {
        "colab": {
          "base_uri": "https://localhost:8080/",
          "height": 135
        },
        "id": "gYxvueHZjj4U",
        "outputId": "c2ab6790-b732-422d-b53b-d5d8d612b0b5"
      },
      "execution_count": 22,
      "outputs": [
        {
          "output_type": "error",
          "ename": "SyntaxError",
          "evalue": "ignored",
          "traceback": [
            "\u001b[0;36m  File \u001b[0;32m\"<ipython-input-22-859ae54fb415>\"\u001b[0;36m, line \u001b[0;32m1\u001b[0m\n\u001b[0;31m    raw_inputs =['1\u001b[0m\n\u001b[0m                   ^\u001b[0m\n\u001b[0;31mSyntaxError\u001b[0m\u001b[0;31m:\u001b[0m EOL while scanning string literal\n"
          ]
        }
      ]
    },
    {
      "cell_type": "code",
      "source": [
        "import copy\n",
        "def main(part):\n",
        "  decryp_key = 811589153\n",
        "  rounds = 10\n",
        "  with open('/content/Day20.txt', \"r\") as f:\n",
        "      inputs = f.read().splitlines()\n",
        "  numbers = [int(input) * decryp_key ** (part - 1) for input in inputs]\n",
        "  encrypted_groves = [input for input in enumerate(numbers)]\n",
        "  len_grove = len(encrypted_groves) - 1\n",
        "  decrypted_groves = copy.deepcopy(encrypted_groves)\n",
        "  tuple_0 = (numbers.index(0), 0)\n",
        "  for _ in range(rounds ** (part - 1)):\n",
        "      for grove in encrypted_groves:\n",
        "          pos_init = decrypted_groves.index(grove)\n",
        "          decrypted_groves.remove(grove)\n",
        "          pos_target = (pos_init + grove[1] + len_grove) % len_grove\n",
        "          if pos_target == 0 and grove[1] != 0:\n",
        "              pos_target = len_grove\n",
        "          decrypted_groves.insert(pos_target, grove)\n",
        "  result = 0\n",
        "  idx_tuple_0 = decrypted_groves.index(tuple_0)\n",
        "  for i in range(1000, 3001, 1000):\n",
        "      result += decrypted_groves[(idx_tuple_0 + i) % (len_grove + 1)][1]\n",
        "  print(result)\n",
        "\n",
        "if __name__ == \"__main__\":\n",
        "  for part in [1, 2]: \n",
        "      main(part)"
      ],
      "metadata": {
        "colab": {
          "base_uri": "https://localhost:8080/",
          "height": 338
        },
        "id": "9V9pOrzyUW7s",
        "outputId": "503cee67-23ca-45c4-c199-51294c443b09"
      },
      "execution_count": 11,
      "outputs": [
        {
          "output_type": "error",
          "ename": "FileNotFoundError",
          "evalue": "ignored",
          "traceback": [
            "\u001b[0;31m---------------------------------------------------------------------------\u001b[0m",
            "\u001b[0;31mFileNotFoundError\u001b[0m                         Traceback (most recent call last)",
            "\u001b[0;32m<ipython-input-11-e56174377f1e>\u001b[0m in \u001b[0;36m<module>\u001b[0;34m\u001b[0m\n\u001b[1;32m     26\u001b[0m \u001b[0;32mif\u001b[0m \u001b[0m__name__\u001b[0m \u001b[0;34m==\u001b[0m \u001b[0;34m\"__main__\"\u001b[0m\u001b[0;34m:\u001b[0m\u001b[0;34m\u001b[0m\u001b[0;34m\u001b[0m\u001b[0m\n\u001b[1;32m     27\u001b[0m   \u001b[0;32mfor\u001b[0m \u001b[0mpart\u001b[0m \u001b[0;32min\u001b[0m \u001b[0;34m[\u001b[0m\u001b[0;36m1\u001b[0m\u001b[0;34m,\u001b[0m \u001b[0;36m2\u001b[0m\u001b[0;34m]\u001b[0m\u001b[0;34m:\u001b[0m\u001b[0;34m\u001b[0m\u001b[0;34m\u001b[0m\u001b[0m\n\u001b[0;32m---> 28\u001b[0;31m       \u001b[0mmain\u001b[0m\u001b[0;34m(\u001b[0m\u001b[0mpart\u001b[0m\u001b[0;34m)\u001b[0m\u001b[0;34m\u001b[0m\u001b[0;34m\u001b[0m\u001b[0m\n\u001b[0m",
            "\u001b[0;32m<ipython-input-11-e56174377f1e>\u001b[0m in \u001b[0;36mmain\u001b[0;34m(part)\u001b[0m\n\u001b[1;32m      3\u001b[0m   \u001b[0mdecryp_key\u001b[0m \u001b[0;34m=\u001b[0m \u001b[0;36m811589153\u001b[0m\u001b[0;34m\u001b[0m\u001b[0;34m\u001b[0m\u001b[0m\n\u001b[1;32m      4\u001b[0m   \u001b[0mrounds\u001b[0m \u001b[0;34m=\u001b[0m \u001b[0;36m10\u001b[0m\u001b[0;34m\u001b[0m\u001b[0;34m\u001b[0m\u001b[0m\n\u001b[0;32m----> 5\u001b[0;31m   \u001b[0;32mwith\u001b[0m \u001b[0mopen\u001b[0m\u001b[0;34m(\u001b[0m\u001b[0;34m'/content/Day20.txt'\u001b[0m\u001b[0;34m,\u001b[0m \u001b[0;34m\"r\"\u001b[0m\u001b[0;34m)\u001b[0m \u001b[0;32mas\u001b[0m \u001b[0mf\u001b[0m\u001b[0;34m:\u001b[0m\u001b[0;34m\u001b[0m\u001b[0;34m\u001b[0m\u001b[0m\n\u001b[0m\u001b[1;32m      6\u001b[0m       \u001b[0minputs\u001b[0m \u001b[0;34m=\u001b[0m \u001b[0mf\u001b[0m\u001b[0;34m.\u001b[0m\u001b[0mread\u001b[0m\u001b[0;34m(\u001b[0m\u001b[0;34m)\u001b[0m\u001b[0;34m.\u001b[0m\u001b[0msplitlines\u001b[0m\u001b[0;34m(\u001b[0m\u001b[0;34m)\u001b[0m\u001b[0;34m\u001b[0m\u001b[0;34m\u001b[0m\u001b[0m\n\u001b[1;32m      7\u001b[0m   \u001b[0mnumbers\u001b[0m \u001b[0;34m=\u001b[0m \u001b[0;34m[\u001b[0m\u001b[0mint\u001b[0m\u001b[0;34m(\u001b[0m\u001b[0minput\u001b[0m\u001b[0;34m)\u001b[0m \u001b[0;34m*\u001b[0m \u001b[0mdecryp_key\u001b[0m \u001b[0;34m**\u001b[0m \u001b[0;34m(\u001b[0m\u001b[0mpart\u001b[0m \u001b[0;34m-\u001b[0m \u001b[0;36m1\u001b[0m\u001b[0;34m)\u001b[0m \u001b[0;32mfor\u001b[0m \u001b[0minput\u001b[0m \u001b[0;32min\u001b[0m \u001b[0minputs\u001b[0m\u001b[0;34m]\u001b[0m\u001b[0;34m\u001b[0m\u001b[0;34m\u001b[0m\u001b[0m\n",
            "\u001b[0;31mFileNotFoundError\u001b[0m: [Errno 2] No such file or directory: '/content/Day20.txt'"
          ]
        }
      ]
    },
    {
      "cell_type": "code",
      "source": [
        "#@title Example form fields\n",
        "#@markdown Forms support many types of fields.\n",
        "\n",
        "no_type_checking = ''  #@param\n",
        "string_type = 'example'  #@param {type: \"string\"}\n",
        "slider_value = 151  #@param {type: \"slider\", min: 100, max: 200}\n",
        "number = 102  #@param {type: \"number\"}\n",
        "date = '2010-11-05'  #@param {type: \"date\"}\n",
        "pick_me = \"monday\"  #@param ['monday', 'tuesday', 'wednesday', 'thursday']\n",
        "select_or_input = \"apples\" #@param [\"apples\", \"bananas\", \"oranges\"] {allow-input: true}\n",
        "#@markdown ---"
      ],
      "metadata": {
        "id": "DCTT1DSYodfw"
      },
      "execution_count": null,
      "outputs": []
    }
  ]
}